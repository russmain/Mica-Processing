{
 "cells": [
  {
   "cell_type": "code",
   "execution_count": 1,
   "metadata": {
    "collapsed": true
   },
   "outputs": [],
   "source": [
    "#imports necessary modules\n",
    "import cv2\n",
    "import matplotlib\n",
    "import matplotlib.pyplot as plt\n",
    "from mpl_toolkits.axes_grid1 import make_axes_locatable\n",
    "import numpy as np\n",
    "import os,glob\n",
    "import math\n",
    "#%matplotlib inline \n",
    "import plotutils\n",
    "import metadata\n",
    "exiftoolPath = None\n",
    "if os.name == 'nt':\n",
    "    exiftoolPath = 'C:\\\\Windows\\\\exiftool.exe'\n",
    "import utils as msutils\n",
    "import pandas as pd\n",
    "import sys\n",
    "import PIL\n",
    "from PIL import Image\n",
    "from PIL.ExifTags import TAGS, GPSTAGS\n",
    "import piexif\n",
    "import pyexiv2\n",
    "import tempfile"
   ]
  },
  {
   "cell_type": "code",
   "execution_count": 9,
   "metadata": {
    "collapsed": true
   },
   "outputs": [],
   "source": [
    "#imports modules for plotting with colour \n",
    "\n",
    "def plotwithcolorbar(img, title='', show=True):\n",
    "    ''' Plot an image with a colorbar '''\n",
    "    fig, axis = plt.subplots(1, 1, figsize=(8, 6))\n",
    "    rad2 = axis.imshow(img)\n",
    "    axis.set_title(title)\n",
    "    divider = make_axes_locatable(axis)\n",
    "    cax = divider.append_axes(\"right\", size=\"3%\", pad=0.05)\n",
    "    fig.colorbar(rad2, cax=cax)\n",
    "    fig1=plt.gcf()\n",
    "    plt.tight_layout()\n",
    "    if show == True:\n",
    "        plt.show()\n",
    "    return fig1\n",
    "\n",
    "def colormap(cmap):\n",
    "    ''' Set the defalut plotting colormap\n",
    "    Could be one of 'gray, viridis, plasma, inferno, magma, nipy_spectral'\n",
    "    '''\n",
    "    plt.set_cmap(cmap)"
   ]
  },
  {
   "cell_type": "code",
   "execution_count": 10,
   "metadata": {
    "collapsed": true
   },
   "outputs": [],
   "source": [
    "#calls the calibration images we want to use for correcting the photos, one from the beginning and one from the end of the flight \n",
    "def callcalibrationimages(calibrationimage, imagePath):\n",
    "    imageName = os.path.join(imagePath, calibrationimage)\n",
    "    imageRaw = plt.imread(imageName)\n",
    "    colormap('viridis');\n",
    "    fig = plotwithcolorbar(imageRaw, title='Raw image values with colorbar')"
   ]
  },
  {
   "cell_type": "code",
   "execution_count": 11,
   "metadata": {
    "collapsed": true
   },
   "outputs": [],
   "source": [
    "#radiance to reflectance for calibration panel images, chose one from the beginning of the flight and one from the end \n",
    "def calibrating (calibrationimage1, calibrationimage2, imagePath,ulx1,uly1,lrx1,lry1,ulx2,uly2,lrx2,lry2,plots=True):\n",
    "    \n",
    "    ##calibrating first image \n",
    "    imageName1 = os.path.join(imagePath, calibrationimage1)\n",
    "    imageRaw1 = plt.imread(imageName1)\n",
    "    meta = metadata.Metadata(imageName1, exiftoolPath=exiftoolPath)\n",
    "    cameraMake = meta.get_item('EXIF:Make')\n",
    "    cameraModel = meta.get_item('EXIF:Model')\n",
    "    firmwareVersion = meta.get_item('EXIF:Software')\n",
    "    bandName = meta.get_item('XMP:BandName')\n",
    "    radianceImage1, L, V, R = msutils.raw_image_to_radiance(meta, imageRaw1)\n",
    "    markedImg1 = radianceImage1.copy()\n",
    "    ulx1 = ulx1\n",
    "    uly1 = uly1\n",
    "    lrx1 = lrx1\n",
    "    lry1 = lry1\n",
    "    cv2.rectangle(markedImg1,(ulx1,uly1),(lrx1,lry1),(0,255,0),3)\n",
    "    #specific for each calibration image \n",
    "    panelCalibration1 = { \n",
    "    \"Blue\": 0.49, \n",
    "    \"Green\": 0.49, \n",
    "    \"Red\": 0.49, \n",
    "    \"Red edge\": 0.49, \n",
    "    \"NIR\": 0.49\n",
    "    }\n",
    "    #may have to change coordinate order so values read from low to high, otherwise will get a Nan return \n",
    "    panelRegion1 = radianceImage1[uly1:lry1, lrx1:ulx1]\n",
    "    meanRadiance1 = panelRegion1.mean()\n",
    "    panelReflectance1 = panelCalibration1[bandName]\n",
    "    radianceToReflectance1 = panelReflectance1 / meanRadiance1\n",
    "    if plots == True:\n",
    "        plotutils.plotwithcolorbar(markedImg1, 'Panel region in radiance image')\n",
    "        print('Mean Radiance in panel region: {:1.3f} W/m^2/nm/sr'.format(meanRadiance1))\n",
    "        print('Radiance to reflectance conversion factor: {:1.3f}'.format(radianceToReflectance1))\n",
    "        reflectanceImage1 = radianceImage1 * radianceToReflectance1\n",
    "        plotutils.plotwithcolorbar(reflectanceImage1, 'Converted Reflectane Image')\n",
    "        \n",
    "    ##calibrating the second image     \n",
    "    imageName2 = os.path.join(imagePath, calibrationimage2)\n",
    "    imageRaw2 = plt.imread(imageName2)\n",
    "    meta = metadata.Metadata(imageName2, exiftoolPath=exiftoolPath)\n",
    "    cameraMake = meta.get_item('EXIF:Make')\n",
    "    cameraModel = meta.get_item('EXIF:Model')\n",
    "    firmwareVersion = meta.get_item('EXIF:Software')\n",
    "    bandName = meta.get_item('XMP:BandName')\n",
    "    radianceImage2, L, V, R = msutils.raw_image_to_radiance(meta, imageRaw2)\n",
    "    markedImg2 = radianceImage2.copy()\n",
    "    ulx2 = ulx2\n",
    "    uly2 = uly2\n",
    "    lrx2 = lrx2\n",
    "    lry2 = lry2\n",
    "    cv2.rectangle(markedImg2,(ulx2,uly2),(lrx2,lry2),(0,255,0),3)\n",
    "    #specific to each calibration panel \n",
    "    panelCalibration2 = { \n",
    "    \"Blue\": 0.49, \n",
    "    \"Green\": 0.49, \n",
    "    \"Red\": 0.49, \n",
    "    \"Red edge\": 0.49, \n",
    "    \"NIR\": 0.49 \n",
    "    }\n",
    "    #may have to change coordinate order so values read from low to high, else will get a Nan return \n",
    "    panelRegion2 = radianceImage2[uly2:lry2, lrx2:ulx2]\n",
    "    meanRadiance2 = panelRegion2.mean()\n",
    "    panelReflectance2 = panelCalibration2[bandName]\n",
    "    radianceToReflectance2 = panelReflectance2 / meanRadiance2\n",
    "    if plots == True:\n",
    "        plotutils.plotwithcolorbar(markedImg2, 'Panel region in radiance image')\n",
    "        print('Mean Radiance in panel region: {:1.3f} W/m^2/nm/sr'.format(meanRadiance2))\n",
    "        print('Radiance to reflectance conversion factor: {:1.3f}'.format(radianceToReflectance2))\n",
    "        reflectanceImage2 = radianceImage2 * radianceToReflectance2\n",
    "        plotutils.plotwithcolorbar(reflectanceImage2, 'Converted Reflectane Image')\n",
    "        \n",
    "    ##get the mean radiance to reflectance between the panel images    \n",
    "    meanradiancetoreflectance = ((radianceToReflectance1 + radianceToReflectance2)/2)\n",
    "    return meanradiancetoreflectance\n"
   ]
  },
  {
   "cell_type": "code",
   "execution_count": 12,
   "metadata": {
    "collapsed": true
   },
   "outputs": [],
   "source": [
    "##check the reflectance of your panel photo, consistent reflectance with a low standard deviation is desired in the panel region\n",
    "def calibrationcheck (calibrationimage, imagePath, ulx, uly, lrx, lry):\n",
    "    imageName = os.path.join(imagePath, calibrationimage)\n",
    "    imageRaw = plt.imread(imageName)\n",
    "    meta = metadata.Metadata(imageName, exiftoolPath=exiftoolPath)\n",
    "    bandName = meta.get_item('XMP:BandName')\n",
    "    ulx = ulx\n",
    "    uly = uly\n",
    "    lrx = lrx\n",
    "    lry = lry\n",
    "    panelCalibration = { \n",
    "    \"Blue\": 0.49, \n",
    "    \"Green\": 0.49, \n",
    "    \"Red\": 0.49, \n",
    "    \"Red edge\": 0.49, \n",
    "    \"NIR\": 0.49 \n",
    "    }\n",
    "    radianceImage, L, V, R = msutils.raw_image_to_radiance(meta, imageRaw)\n",
    "    panelRegion = radianceImage[uly:lry, lrx:ulx]\n",
    "    meanRadiance = panelRegion.mean()\n",
    "    panelReflectance = panelCalibration[bandName]\n",
    "    radianceToReflectance = panelReflectance / meanRadiance\n",
    "    reflectanceImage = radianceImage * radianceToReflectance\n",
    "    panelRegionRaw = imageRaw[uly:lry, lrx:ulx]\n",
    "    panelRegionRefl = reflectanceImage[uly:lry, lrx:ulx]\n",
    "    print('Min Reflectance in panel region: {:1.2f}'.format(panelRegionRefl.min()))\n",
    "    print('Max Reflectance in panel region: {:1.2f}'.format(panelRegionRefl.max()))\n",
    "    print('Mean Reflectance in panel region: {:1.2f}'.format(panelRegionRefl.mean()))\n",
    "    print('Standard deviation in region: {:1.4f}'.format(panelRegionRefl.std()))"
   ]
  },
  {
   "cell_type": "code",
   "execution_count": 13,
   "metadata": {
    "collapsed": true
   },
   "outputs": [],
   "source": [
    "##transfers metadata from one image to another \n",
    "def copyMeta(inputIMGpath,outputIMGpath):\n",
    "    original_meta = pyexiv2.ImageMetadata(inputIMGpath)\n",
    "    original_meta.read()\n",
    "    new_meta = pyexiv2.ImageMetadata(outputIMGpath)\n",
    "    new_meta.read()\n",
    "    original_meta.copy(new_meta,comment=False)\n",
    "    new_meta.write()"
   ]
  },
  {
   "cell_type": "code",
   "execution_count": 15,
   "metadata": {
    "collapsed": true
   },
   "outputs": [],
   "source": [
    "##function for calibrating flight images based on the panel photos, also corrects for distortion \n",
    "def calibration(imagefile,calibrationimage1, calibrationimage2,calibrationPath,imagePath,figpath,figname,ulx1,uly1,lrx1,lry1,ulx2,uly2,lrx2,lry2,raw=False, show=False):\n",
    "    exiftoolPath = 'C:\\\\Windows\\\\exiftool.exe'\n",
    "    meta = metadata.Metadata(os.path.join(imagePath,imagefile), exiftoolPath=exiftoolPath)\n",
    "    flightImageName = os.path.join(imagePath, imagefile)\n",
    "    flightImageRaw=plt.imread(flightImageName)\n",
    "    if raw == True: #lets you show or not show the original \n",
    "        plotutils.plotwithcolorbar(flightImageRaw, 'Raw Image')\n",
    "    flightRadianceImage, _, _, _ = msutils.raw_image_to_radiance(meta, flightImageRaw)\n",
    "    radianceToReflectance = calibrating(calibrationimage1, calibrationimage2, calibrationPath,ulx1,uly1,lrx1,lry1,ulx2,uly2,lrx2,lry2,plots=False) #might need to adjust for two images\n",
    "    flightReflectanceImage = flightRadianceImage * radianceToReflectance\n",
    "    flightUndistortedReflectance = msutils.correct_lens_distortion(meta, flightReflectanceImage)\n",
    "    a = plotwithcolorbar(flightUndistortedReflectance, 'Reflectance converted and undistorted image', show=False) #pop up the images in jupyter or just save to dorectory \n",
    "    a.savefig(os.path.join(figpath,figname))\n",
    "    copyMeta(os.path.join(imagePath,imagefile),os.path.join(figpath,figname))\n",
    "    return "
   ]
  },
  {
   "cell_type": "code",
   "execution_count": 16,
   "metadata": {
    "collapsed": true
   },
   "outputs": [],
   "source": [
    "##example for how to use \n",
    "#imagePath = os.path.join('C:\\\\', 'Users', 'Sara', 'Pictures', 'MICASENSE', '0006SET', '000', '2nd Flight') #where the images are \n",
    "#calibrationImage1 = 'IMG_0079_4.tif' \n",
    "#calibrationImage2 = 'IMG_0338_5.tif'\n",
    "#calibrationPath = os.path.join('C:\\\\', 'Users', 'Sara', 'Pictures', 'MICASENSE', '0006SET', '000','panel images', 'USE THESE')\n",
    "#figpath = os.path.join('C:\\\\', 'Users', 'Sara', 'Pictures', 'MICASENSE', '0006SET', '000', 'correction graph') #where the correction should save to \n",
    "#files = os.listdir(os.path.join('C:\\\\', 'Users', 'Sara', 'Pictures', 'MICASENSE', '0006SET', '000', '2nd FLight')) #the directory of images \n",
    "#for imagefile in files:\n",
    "    #if imagefile.endswith(\".tif\"): #to only take the tif's \n",
    "        #figname = imagefile[:-4] + '_corrected.tif' #renaming for correction \n",
    "        #calibration(imagefile,calibrationImage1, calibrationImage2, calibrationPath, imagePath,figpath,figname,1150,200,980,350,810,500,630,700, raw=False, show=False)"
   ]
  }
 ],
 "metadata": {
  "anaconda-cloud": {},
  "kernelspec": {
   "display_name": "Python [conda root]",
   "language": "python",
   "name": "conda-root-py"
  },
  "language_info": {
   "codemirror_mode": {
    "name": "ipython",
    "version": 2
   },
   "file_extension": ".py",
   "mimetype": "text/x-python",
   "name": "python",
   "nbconvert_exporter": "python",
   "pygments_lexer": "ipython2",
   "version": "2.7.12"
  }
 },
 "nbformat": 4,
 "nbformat_minor": 2
}
